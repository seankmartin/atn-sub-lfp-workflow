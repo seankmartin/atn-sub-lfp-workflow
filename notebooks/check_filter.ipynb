{
 "cells": [
  {
   "cell_type": "code",
   "execution_count": null,
   "metadata": {},
   "outputs": [],
   "source": [
    "from pathlib import Path\n",
    "\n",
    "import simuran as smr\n",
    "\n",
    "PATH_TO_NWBS = Path(r\"/media/starfish/Seagate Expansion Drive/atn-sub-lfp-workflow/results/processed\")"
   ]
  },
  {
   "cell_type": "code",
   "execution_count": null,
   "metadata": {},
   "outputs": [],
   "source": [
    "nwbfilepath = PATH_TO_NWBS / \"CSubRet5_sham--recording--+ maze--08122017_t8--S2--08122017_CSubRet5_+maze_t8_2.nwb\""
   ]
  },
  {
   "cell_type": "code",
   "execution_count": null,
   "metadata": {},
   "outputs": [],
   "source": [
    "recording = smr.Recording()\n",
    "recording.loader = smr.loader(\"NWB\")\n",
    "recording.attrs[\"source_file\"] = nwbfilepath\n",
    "recording.parse_metadata()\n",
    "recording.load()\n",
    "recording.inspect()"
   ]
  },
  {
   "cell_type": "code",
   "execution_count": null,
   "metadata": {},
   "outputs": [],
   "source": [
    "nwb_data = recording.data\n",
    "lfp_data = nwb_data.processing[\"ecephys\"][\"LFP\"][\"ElectricalSeries\"].data[:].T\n",
    "normalised_lfp = nwb_data.processing[\"normalised_lfp\"][\"LFP\"][\"ElectricalSeries\"].data[:].T"
   ]
  },
  {
   "cell_type": "code",
   "execution_count": null,
   "metadata": {},
   "outputs": [],
   "source": [
    "print(lfp_data.shape)\n",
    "print(normalised_lfp.shape)"
   ]
  },
  {
   "cell_type": "code",
   "execution_count": null,
   "metadata": {},
   "outputs": [],
   "source": [
    "from simuran.plot.signal import plot_signals\n",
    "\n",
    "signals = []\n",
    "\n",
    "for val1, val2 in zip(lfp_data[:5], normalised_lfp[:5]):\n",
    "    smr1 = smr.Eeg.from_numpy(val1, 250)\n",
    "    smr2 = smr.Eeg.from_numpy(300 * val2, 250)\n",
    "    signals.append(smr1)\n",
    "    signals.append(smr2)"
   ]
  },
  {
   "cell_type": "code",
   "execution_count": null,
   "metadata": {},
   "outputs": [],
   "source": [
    "fig = plot_signals(signals, start=0, duration=0.01, show=True, scalings={\"eeg\": 0.0001})"
   ]
  }
 ],
 "metadata": {
  "kernelspec": {
   "display_name": ".venv",
   "language": "python",
   "name": "python3"
  },
  "language_info": {
   "codemirror_mode": {
    "name": "ipython",
    "version": 3
   },
   "file_extension": ".py",
   "mimetype": "text/x-python",
   "name": "python",
   "nbconvert_exporter": "python",
   "pygments_lexer": "ipython3",
   "version": "3.10.12"
  }
 },
 "nbformat": 4,
 "nbformat_minor": 2
}
